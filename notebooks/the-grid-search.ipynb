{
 "cells": [
  {
   "cell_type": "markdown",
   "metadata": {},
   "source": [
    "# Hacker Rank Drafts\n",
    "---\n",
    "\n",
    "Problem solving algorithms"
   ]
  },
  {
   "cell_type": "markdown",
   "metadata": {},
   "source": [
    "## Grid Search"
   ]
  },
  {
   "cell_type": "code",
   "execution_count": 2,
   "metadata": {},
   "outputs": [],
   "source": [
    "# %load first_cell\n",
    "%reload_ext autoreload\n",
    "%autoreload 2\n",
    "\n",
    "import os\n",
    "import sys\n",
    "sys.path.insert(0, '../')\n",
    "sys.path.insert(0, '../scripts')\n",
    "from config import *\n",
    "\n",
    "from utils import *\n",
    "\n",
    "from copy import deepcopy\n",
    "import numpy as np\n",
    "import pandas as pd\n",
    "pd.options.display.max_columns = 999\n",
    "\n",
    "import warnings\n",
    "warnings.filterwarnings('ignore')"
   ]
  },
  {
   "cell_type": "code",
   "execution_count": 11,
   "metadata": {},
   "outputs": [
    {
     "data": {
      "text/plain": [
       "[PosixPath('/Users/fernandascovino/Projects/hackerank/data/the-grid-search-testcases/input/input01.txt'),\n",
       " PosixPath('/Users/fernandascovino/Projects/hackerank/data/the-grid-search-testcases/input/input00.txt')]"
      ]
     },
     "execution_count": 11,
     "metadata": {},
     "output_type": "execute_result"
    }
   ],
   "source": [
    "inputs = DATA_PATH / 'the-grid-search-testcases' / 'input'\n",
    "outputs = DATA_PATH / 'the-grid-search-testcases' / 'output'\n",
    "\n",
    "[i for i in inputs.iterdir()]"
   ]
  },
  {
   "cell_type": "code",
   "execution_count": 60,
   "metadata": {},
   "outputs": [],
   "source": [
    "def find_line(p_line, g_line):\n",
    "    \n",
    "    if g_line.find(p_line) == -1:\n",
    "        return False\n",
    "    else:\n",
    "        return True\n",
    "\n",
    "def gridSearch(G, P):\n",
    "    \n",
    "    if len(G) < len(P):\n",
    "        return 'NO'\n",
    "    \n",
    "    first_pos = 0\n",
    "    \n",
    "    while (not find_line(P[0], G[first_pos])) and first_pos < len(G)-1:\n",
    "        print(first_pos)\n",
    "        first_pos +=1\n",
    "        \n",
    "    if first_pos == len(G):\n",
    "        return 'NO'\n",
    "        \n",
    "    g_line = first_pos+1\n",
    "    finds = 1\n",
    "    \n",
    "    while find_line(P[finds], G[g_line]):\n",
    "            \n",
    "        g_line +=1\n",
    "        finds +=1\n",
    "        \n",
    "        if finds == len(P):\n",
    "            return 'YES'\n",
    "    \n",
    "    else:\n",
    "        gridSearch(G[first_pos:], P)"
   ]
  },
  {
   "cell_type": "code",
   "execution_count": 61,
   "metadata": {},
   "outputs": [],
   "source": [
    "# def findLine(R, r, pos, finds):\n",
    "    \n",
    "#     new_pos = R.find(r)\n",
    "    \n",
    "#     if new_pos == -1:\n",
    "#         return (-1, 0)\n",
    "    \n",
    "#     if new_pos == pos:\n",
    "#         return (pos, finds+1)\n",
    "#     else:\n",
    "#         return (new_pos, 1)\n",
    "\n",
    "\n",
    "# def gridSearch(G, P):\n",
    "\n",
    "#     pos = -1\n",
    "#     finds = 0\n",
    "    \n",
    "#     for R in range(len(G)):\n",
    "        \n",
    "# #         if G[R] == '':\n",
    "# #             pass\n",
    "\n",
    "#         pos, finds = findLine(G[R], P[finds].replace('\\n', ''), pos, finds)\n",
    "        \n",
    "#         if finds == len(P):\n",
    "#             return 'YES'\n",
    "\n",
    "#     return 'NO'"
   ]
  },
  {
   "cell_type": "code",
   "execution_count": 62,
   "metadata": {},
   "outputs": [],
   "source": [
    "def resolve(fptr):\n",
    "    \n",
    "    t = fptr.readline()\n",
    "    result = list()\n",
    "\n",
    "    for t_itr in range(int(t)):\n",
    "\n",
    "        RC = fptr.readline().split()\n",
    "\n",
    "        R = int(RC[0])\n",
    "        C = int(RC[1])\n",
    "\n",
    "        G = []\n",
    "\n",
    "        for _ in range(R):\n",
    "            G_item = fptr.readline()\n",
    "            G.append(G_item)\n",
    "\n",
    "        rc = fptr.readline().split()\n",
    "\n",
    "        r = int(rc[0])\n",
    "        c = int(rc[1])\n",
    "\n",
    "        P = []\n",
    "\n",
    "        for _ in range(r):\n",
    "            P_item = fptr.readline()\n",
    "            P.append(P_item)\n",
    "\n",
    "        result.append(gridSearch(G, P))\n",
    "        \n",
    "    return result"
   ]
  },
  {
   "cell_type": "code",
   "execution_count": 63,
   "metadata": {},
   "outputs": [
    {
     "name": "stdout",
     "output_type": "stream",
     "text": [
      "0\n",
      "1\n",
      "2\n",
      "3\n",
      "4\n",
      "5\n",
      "6\n",
      "7\n",
      "8\n",
      "9\n",
      "10\n",
      "11\n",
      "12\n",
      "13\n",
      "14\n",
      "15\n",
      "16\n",
      "17\n",
      "18\n"
     ]
    },
    {
     "ename": "IndexError",
     "evalue": "list index out of range",
     "output_type": "error",
     "traceback": [
      "\u001b[0;31m---------------------------------------------------------------------------\u001b[0m",
      "\u001b[0;31mIndexError\u001b[0m                                Traceback (most recent call last)",
      "\u001b[0;32m<ipython-input-63-321d727a4c2d>\u001b[0m in \u001b[0;36m<module>\u001b[0;34m\u001b[0m\n\u001b[1;32m      1\u001b[0m \u001b[0;32mfor\u001b[0m \u001b[0mfile\u001b[0m \u001b[0;32min\u001b[0m \u001b[0minputs\u001b[0m\u001b[0;34m.\u001b[0m\u001b[0miterdir\u001b[0m\u001b[0;34m(\u001b[0m\u001b[0;34m)\u001b[0m\u001b[0;34m:\u001b[0m\u001b[0;34m\u001b[0m\u001b[0;34m\u001b[0m\u001b[0m\n\u001b[0;32m----> 2\u001b[0;31m     \u001b[0mprint\u001b[0m\u001b[0;34m(\u001b[0m\u001b[0mfile\u001b[0m\u001b[0;34m,\u001b[0m \u001b[0;34m'\\n'\u001b[0m\u001b[0;34m,\u001b[0m \u001b[0mresolve\u001b[0m\u001b[0;34m(\u001b[0m\u001b[0mopen\u001b[0m\u001b[0;34m(\u001b[0m\u001b[0mfile\u001b[0m\u001b[0;34m,\u001b[0m \u001b[0;34m'r'\u001b[0m\u001b[0;34m)\u001b[0m\u001b[0;34m)\u001b[0m\u001b[0;34m)\u001b[0m\u001b[0;34m\u001b[0m\u001b[0;34m\u001b[0m\u001b[0m\n\u001b[0m",
      "\u001b[0;32m<ipython-input-62-d18bd766722f>\u001b[0m in \u001b[0;36mresolve\u001b[0;34m(fptr)\u001b[0m\n\u001b[1;32m     28\u001b[0m             \u001b[0mP\u001b[0m\u001b[0;34m.\u001b[0m\u001b[0mappend\u001b[0m\u001b[0;34m(\u001b[0m\u001b[0mP_item\u001b[0m\u001b[0;34m)\u001b[0m\u001b[0;34m\u001b[0m\u001b[0;34m\u001b[0m\u001b[0m\n\u001b[1;32m     29\u001b[0m \u001b[0;34m\u001b[0m\u001b[0m\n\u001b[0;32m---> 30\u001b[0;31m         \u001b[0mresult\u001b[0m\u001b[0;34m.\u001b[0m\u001b[0mappend\u001b[0m\u001b[0;34m(\u001b[0m\u001b[0mgridSearch\u001b[0m\u001b[0;34m(\u001b[0m\u001b[0mG\u001b[0m\u001b[0;34m,\u001b[0m \u001b[0mP\u001b[0m\u001b[0;34m)\u001b[0m\u001b[0;34m)\u001b[0m\u001b[0;34m\u001b[0m\u001b[0;34m\u001b[0m\u001b[0m\n\u001b[0m\u001b[1;32m     31\u001b[0m \u001b[0;34m\u001b[0m\u001b[0m\n\u001b[1;32m     32\u001b[0m     \u001b[0;32mreturn\u001b[0m \u001b[0mresult\u001b[0m\u001b[0;34m\u001b[0m\u001b[0;34m\u001b[0m\u001b[0m\n",
      "\u001b[0;32m<ipython-input-60-ee0b6df9c062>\u001b[0m in \u001b[0;36mgridSearch\u001b[0;34m(G, P)\u001b[0m\n\u001b[1;32m     23\u001b[0m     \u001b[0mfinds\u001b[0m \u001b[0;34m=\u001b[0m \u001b[0;36m1\u001b[0m\u001b[0;34m\u001b[0m\u001b[0;34m\u001b[0m\u001b[0m\n\u001b[1;32m     24\u001b[0m \u001b[0;34m\u001b[0m\u001b[0m\n\u001b[0;32m---> 25\u001b[0;31m     \u001b[0;32mwhile\u001b[0m \u001b[0mfind_line\u001b[0m\u001b[0;34m(\u001b[0m\u001b[0mP\u001b[0m\u001b[0;34m[\u001b[0m\u001b[0mfinds\u001b[0m\u001b[0;34m]\u001b[0m\u001b[0;34m,\u001b[0m \u001b[0mG\u001b[0m\u001b[0;34m[\u001b[0m\u001b[0mg_line\u001b[0m\u001b[0;34m]\u001b[0m\u001b[0;34m)\u001b[0m\u001b[0;34m:\u001b[0m\u001b[0;34m\u001b[0m\u001b[0;34m\u001b[0m\u001b[0m\n\u001b[0m\u001b[1;32m     26\u001b[0m \u001b[0;34m\u001b[0m\u001b[0m\n\u001b[1;32m     27\u001b[0m         \u001b[0mg_line\u001b[0m \u001b[0;34m+=\u001b[0m\u001b[0;36m1\u001b[0m\u001b[0;34m\u001b[0m\u001b[0;34m\u001b[0m\u001b[0m\n",
      "\u001b[0;31mIndexError\u001b[0m: list index out of range"
     ]
    }
   ],
   "source": [
    "for file in inputs.iterdir():\n",
    "    print(file, '\\n', resolve(open(file, 'r')))"
   ]
  },
  {
   "cell_type": "code",
   "execution_count": 19,
   "metadata": {},
   "outputs": [
    {
     "name": "stdout",
     "output_type": "stream",
     "text": [
      "/Users/fernandascovino/Projects/hackerank/data/the-grid-search-testcases/output/output01.txt \n",
      " ['NO', 'YES']\n",
      "/Users/fernandascovino/Projects/hackerank/data/the-grid-search-testcases/output/output00.txt \n",
      " ['YES', 'NO']\n"
     ]
    }
   ],
   "source": [
    "for file in outputs.iterdir():\n",
    "    print(file, '\\n', open(file, 'r').read().split())"
   ]
  },
  {
   "cell_type": "code",
   "execution_count": 88,
   "metadata": {},
   "outputs": [
    {
     "data": {
      "text/plain": [
       "'YES'"
      ]
     },
     "execution_count": 88,
     "metadata": {},
     "output_type": "execute_result"
    }
   ],
   "source": [
    "G = ['1234', '4212', '3112']\n",
    "P =['12', '12']\n",
    "\n",
    "gridSearch(G, P)"
   ]
  },
  {
   "cell_type": "code",
   "execution_count": 89,
   "metadata": {},
   "outputs": [
    {
     "data": {
      "text/plain": [
       "'NO'"
      ]
     },
     "execution_count": 89,
     "metadata": {},
     "output_type": "execute_result"
    }
   ],
   "source": [
    "G = ['']\n",
    "P =['12', '12']\n",
    "\n",
    "gridSearch(G, P)"
   ]
  },
  {
   "cell_type": "code",
   "execution_count": 90,
   "metadata": {},
   "outputs": [
    {
     "data": {
      "text/plain": [
       "'YES'"
      ]
     },
     "execution_count": 90,
     "metadata": {},
     "output_type": "execute_result"
    }
   ],
   "source": [
    "G = ['12']\n",
    "P =['']\n",
    "\n",
    "gridSearch(G, P)"
   ]
  },
  {
   "cell_type": "code",
   "execution_count": null,
   "metadata": {},
   "outputs": [],
   "source": [
    "import math\n",
    "import os\n",
    "import random\n",
    "import re\n",
    "import sys\n",
    "\n",
    "# # Complete the gridSearch function below.\n",
    "# def gridSearch(G, P):\n",
    "\n",
    "#     r = 0\n",
    "#     pos = -1\n",
    "\n",
    "#     for R in range(len(G)):\n",
    "        \n",
    "#         line = P[r].replace('\\n', '')\n",
    "#         new_pos = G[R].find(line)\n",
    "        \n",
    "#         # not a cycle\n",
    "#         if new_pos == -1:\n",
    "#             r = 0\n",
    "            \n",
    "#         # start a cycle\n",
    "#         elif new_pos != pos:\n",
    "#             pos = new_pos\n",
    "#             r = 1\n",
    "            \n",
    "#         # stay in a cycle\n",
    "#         else:\n",
    "#             r +=1\n",
    "#             if r == len(P):\n",
    "#                 return 'YES'\n",
    "    \n",
    "#     return 'NO'"
   ]
  }
 ],
 "metadata": {
  "kernelspec": {
   "display_name": "Python 3",
   "language": "python",
   "name": "python3"
  },
  "language_info": {
   "codemirror_mode": {
    "name": "ipython",
    "version": 3
   },
   "file_extension": ".py",
   "mimetype": "text/x-python",
   "name": "python",
   "nbconvert_exporter": "python",
   "pygments_lexer": "ipython3",
   "version": "3.7.4"
  },
  "toc": {
   "base_numbering": 1,
   "nav_menu": {},
   "number_sections": true,
   "sideBar": true,
   "skip_h1_title": false,
   "title_cell": "Table of Contents",
   "title_sidebar": "Contents",
   "toc_cell": false,
   "toc_position": {},
   "toc_section_display": true,
   "toc_window_display": false
  },
  "varInspector": {
   "cols": {
    "lenName": 16,
    "lenType": 16,
    "lenVar": 40
   },
   "kernels_config": {
    "python": {
     "delete_cmd_postfix": "",
     "delete_cmd_prefix": "del ",
     "library": "var_list.py",
     "varRefreshCmd": "print(var_dic_list())"
    },
    "r": {
     "delete_cmd_postfix": ") ",
     "delete_cmd_prefix": "rm(",
     "library": "var_list.r",
     "varRefreshCmd": "cat(var_dic_list()) "
    }
   },
   "types_to_exclude": [
    "module",
    "function",
    "builtin_function_or_method",
    "instance",
    "_Feature"
   ],
   "window_display": false
  }
 },
 "nbformat": 4,
 "nbformat_minor": 2
}
